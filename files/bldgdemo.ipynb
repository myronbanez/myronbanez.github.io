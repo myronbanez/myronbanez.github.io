{
 "cells": [
  {
   "cell_type": "markdown",
   "id": "5deb6045",
   "metadata": {},
   "source": [
    "# Philadelphia Building Demolitions 2007-2022\n",
    "#### MUSA 550 | Myron Bañez\n",
    "\n",
    "#### Utilizing building demolition data from OpenDataPhilly, this analysis examines different methods to visualize building demolitions in Philadelphia from January 1st 2007 to September 22nd 2022. \n",
    "\n",
    "#### Data source: https://www.opendataphilly.org/dataset/building-demolitions/resource/a9068361-0420-44a3-9547-2363081a17bc\n",
    "#### _____________________________________________________________"
   ]
  },
  {
   "cell_type": "markdown",
   "id": "b029dcc5",
   "metadata": {},
   "source": [
    "## Importing Data"
   ]
  },
  {
   "cell_type": "code",
   "execution_count": null,
   "id": "e4fe73aa",
   "metadata": {},
   "outputs": [],
   "source": [
    "import numpy as np\n",
    "from matplotlib import pyplot as plt\n",
    "import matplotlib.colors as mcolors\n",
    "import pandas as pd\n",
    "import altair as alt\n",
    "import seaborn as sns\n",
    "import geopandas as gpd"
   ]
  },
  {
   "cell_type": "code",
   "execution_count": null,
   "id": "fa33ac96",
   "metadata": {},
   "outputs": [],
   "source": [
    "censusgeo = gpd.read_file('./ct')\n",
    "censusgeo\n",
    "\n",
    "data = './demolition.csv'\n",
    "demolition = pd.read_csv(data)\n",
    "demolition"
   ]
  },
  {
   "cell_type": "code",
   "execution_count": null,
   "id": "18c450c7",
   "metadata": {},
   "outputs": [],
   "source": [
    "censusgeo.rename(columns = {'NAME10': 'Tract'}, inplace = True)"
   ]
  },
  {
   "cell_type": "markdown",
   "id": "a2d3c9b3",
   "metadata": {},
   "source": [
    "## Data Manipulation\n",
    "\n",
    "### Renaming and dropping columns from the census tracts data."
   ]
  },
  {
   "cell_type": "code",
   "execution_count": null,
   "id": "5d82fb19",
   "metadata": {},
   "outputs": [],
   "source": [
    "censusgeo.rename(columns = {'NAME10': 'Tract'}, inplace = True)\n",
    "censusgeo\n",
    "\n",
    "philly = censusgeo.drop(['OBJECTID', 'STATEFP10', 'COUNTYFP10', 'TRACTCE10', 'GEOID10', 'NAMELSAD10', 'MTFCC10', 'FUNCSTAT10', 'ALAND10', 'AWATER10', 'INTPTLAT10', 'INTPTLON10', 'LOGRECNO'], axis=1)\n",
    "\n",
    "philly = philly.to_crs(epsg=3857)\n",
    "\n",
    "philly['Tract'] = philly['Tract'].astype(float)\n",
    "\n",
    "philly.dtypes"
   ]
  },
  {
   "cell_type": "markdown",
   "id": "f6d7b33a",
   "metadata": {},
   "source": [
    "### Dropping columns from the building demolition data. "
   ]
  },
  {
   "cell_type": "code",
   "execution_count": null,
   "id": "47f5be33",
   "metadata": {},
   "outputs": [],
   "source": [
    "demolition_df = demolition.drop(['the_geom', 'the_geom_webmercator', 'objectid', 'addressobjectid', \n",
    "                 'parcel_id_num', 'opa_account_num', 'unit_type', 'unit_num', 'opa_owner', \n",
    "                 'caseorpermitnumber', 'record_type', 'typeofworkdescription', 'contractorstate', \n",
    "                 'contractorzip', 'systemofrecord', 'geocode_x', 'geocode_y', 'council_district', \n",
    "                 'posse_jobid', 'applicanttype', 'applicantname', 'contractorname', 'contractortype', \n",
    "                 'contractoraddress1', 'contractoraddress2', 'contractorcity'], axis=1)\n",
    "\n",
    "demolition_df"
   ]
  },
  {
   "cell_type": "markdown",
   "id": "28a29b31",
   "metadata": {},
   "source": [
    "### The data is melted from wide to tidy format and another column, \"status\", is dropped from the dataframe."
   ]
  },
  {
   "cell_type": "code",
   "execution_count": null,
   "id": "88660c36",
   "metadata": {},
   "outputs": [],
   "source": [
    "demolition_df_clean = pd.melt(\n",
    "    demolition_df, \n",
    "    id_vars=[\"censustract\", \"mostrecentinsp\", \"lat\", \"lng\"],\n",
    "    value_vars=demolition_df.columns[7],\n",
    "    value_name=\"demolished\", \n",
    "    var_name=\"status\"\n",
    ")\n",
    "\n",
    "demolition_df_clean\n",
    "\n",
    "demolition_df_clean1 = demolition_df_clean.drop(['status'], axis=1)\n",
    "demolition_df_clean1"
   ]
  },
  {
   "cell_type": "markdown",
   "id": "eb32a9b8",
   "metadata": {},
   "source": [
    "### The \"mostrecentinsp\" column is converted to an appropriate date format to extract just the year."
   ]
  },
  {
   "cell_type": "code",
   "execution_count": null,
   "id": "1f46ac89",
   "metadata": {},
   "outputs": [],
   "source": [
    "demolition_df_clean1[\"mostrecentinsp\"] = pd.to_datetime(demolition_df_clean1[\"mostrecentinsp\"])\n",
    "date_strings = demolition_df_clean1[\"mostrecentinsp\"].dt.strftime(\"%Y\")\n",
    "\n",
    "date_strings.iloc[0]\n",
    "demolition_df_clean1[\"mostrecentinsp\"] = date_strings\n",
    "demolition_df_clean1"
   ]
  },
  {
   "cell_type": "code",
   "execution_count": null,
   "id": "66d2d199",
   "metadata": {
    "scrolled": true
   },
   "outputs": [],
   "source": [
    "demolition_df_clean1[\"mostrecentinsp\"] = pd.to_datetime(demolition_df_clean1[\"mostrecentinsp\"])\n",
    "demolition_df_clean1['Year'] = demolition_df_clean1['mostrecentinsp'].dt.year\n",
    "demolition_df_clean1 = demolition_df_clean1.drop(['mostrecentinsp'], axis=1)\n",
    "demolition_df_clean1"
   ]
  },
  {
   "cell_type": "code",
   "execution_count": null,
   "id": "019d6370",
   "metadata": {},
   "outputs": [],
   "source": [
    "demolition_df_clean1 = demolition_df_clean1.dropna(axis=0)\n",
    "demolition_df_clean1['Year']= demolition_df_clean1['Year'].astype(int)\n",
    "demolition_df_clean1"
   ]
  },
  {
   "cell_type": "markdown",
   "id": "b8766f1a",
   "metadata": {},
   "source": [
    "### In order to examine just the completed building demolitions, I will query for just the observations where demolition is complete."
   ]
  },
  {
   "cell_type": "code",
   "execution_count": null,
   "id": "0155f3bb",
   "metadata": {},
   "outputs": [],
   "source": [
    "completed = [\"COMPLETED\"]\n",
    "demolition_df_clean1 = demolition_df_clean1.query(\"demolished in @completed\")\n",
    "demolition_df_clean1"
   ]
  },
  {
   "cell_type": "markdown",
   "id": "d38ca84c",
   "metadata": {},
   "source": [
    "## Analysis\n",
    "\n",
    "### The sum of demolitions is taken grouped by census tract and year. This is followed by renaming of columns for a more suitable title and dropping an additional column."
   ]
  },
  {
   "cell_type": "code",
   "execution_count": null,
   "id": "b4f2cb60",
   "metadata": {},
   "outputs": [],
   "source": [
    "demolition_df_analysis = demolition_df_clean1.groupby(['censustract', 'Year', 'demolished']).size()\n",
    "demolition_df_analysis = demolition_df_analysis.reset_index()\n",
    "demolition_df_analysis\n",
    "\n",
    "demolition_df_analysis.rename(columns = {0:'sum', 'censustract':'Tract'}, inplace = True)\n",
    "demolition_df_analysis1 = demolition_df_analysis.drop(['demolished'], axis=1)\n",
    "demolition_df_analysis1"
   ]
  },
  {
   "cell_type": "markdown",
   "id": "4615fb3c",
   "metadata": {},
   "source": [
    "### I am first interested in the total number of demolitions by year, so I am preparing another dataframe to gather this data."
   ]
  },
  {
   "cell_type": "code",
   "execution_count": null,
   "id": "74600e30",
   "metadata": {
    "scrolled": true
   },
   "outputs": [],
   "source": [
    "demolition_df_analysis2 = demolition_df_analysis1.groupby(['Year'])['sum'].sum()\n",
    "demolition_df_analysis2 = demolition_df_analysis2.reset_index()\n",
    "demolition_df_analysis2"
   ]
  },
  {
   "cell_type": "markdown",
   "id": "6fab9b9a",
   "metadata": {},
   "source": [
    "### Matplotlib is used to visualize this data to show a clear and simple overview of high level information regarding building demolition. As a result of showing total demolitions by year, a bar plot easily depicts this data to compare the years side by side and identify trends."
   ]
  },
  {
   "cell_type": "code",
   "execution_count": null,
   "id": "17296a13",
   "metadata": {
    "scrolled": false
   },
   "outputs": [],
   "source": [
    "### Matplotlib Chart \n",
    "\n",
    "ax = demolition_df_analysis2.plot.bar(x='Year', y='sum', rot=0, color='#ffc300')\n",
    "plt.xticks(rotation = 45)\n",
    "plt.title(\"Total Building Demolitions in Philadelphia by Year\", fontsize=10)\n",
    "plt.show()"
   ]
  },
  {
   "cell_type": "markdown",
   "id": "7e512770",
   "metadata": {},
   "source": [
    "#### The data shows that 2017 has seen the greatest numver of building demolitions totaling slightly above 1,000. Another point of interest of this chart shows a drastic increase in demolitions from 2008 to 2009, as well as a notable decrease in 2020 which may be attributed to COVID-19."
   ]
  },
  {
   "cell_type": "markdown",
   "id": "f19a35f6",
   "metadata": {},
   "source": [
    "### I am also interested in what census tract had the greatest number of demolitions. To approach this I will group the initial demolition_df_analysis1 dataframe by tract and retreieve the sum of demolitions."
   ]
  },
  {
   "cell_type": "code",
   "execution_count": null,
   "id": "42761cab",
   "metadata": {},
   "outputs": [],
   "source": [
    "phl_demolition_stats = demolition_df_analysis1.groupby(['Tract'])['sum'].sum()\n",
    "phl_demolition_stats = phl_demolition_stats.reset_index()\n",
    "phl_demolition_stats"
   ]
  },
  {
   "cell_type": "markdown",
   "id": "9a439391",
   "metadata": {},
   "source": [
    "### The transformed dataframe can now be merged to the Philadelphia census tracts."
   ]
  },
  {
   "cell_type": "code",
   "execution_count": null,
   "id": "651e3657",
   "metadata": {},
   "outputs": [],
   "source": [
    "phl_demolition = philly.merge(phl_demolition_stats, on='Tract')\n",
    "phl_demolition"
   ]
  },
  {
   "cell_type": "markdown",
   "id": "f8dc130f",
   "metadata": {},
   "source": [
    "### Visualizing building demolitions by census tracts on a map allows viewers to see if there are any spatial relationships with demolitions to determine if there are particular areas that are more likely to experience demolitions."
   ]
  },
  {
   "cell_type": "code",
   "execution_count": null,
   "id": "abc711d8",
   "metadata": {},
   "outputs": [],
   "source": [
    "### Altair Chart 1\n",
    "\n",
    "demolitions_map = phl_demolition.to_crs(epsg=4326)\n",
    "\n",
    "chart = (\n",
    "    alt.Chart(demolitions_map)\n",
    "    .mark_geoshape(stroke=\"white\")\n",
    "    .encode(\n",
    "        tooltip=[\"sum:Q\", \"Tract:N\"],\n",
    "        color=alt.Color(\"sum:Q\", scale=alt.Scale(scheme='goldred'))\n",
    "    ).properties(width=700, height=700, title='Total Building Demolitions from 2007-2022 by Census Tract'\n",
    ")\n",
    ")\n",
    "\n",
    "chart"
   ]
  },
  {
   "cell_type": "markdown",
   "id": "9b36205c",
   "metadata": {},
   "source": [
    "#### From 2007 to 2022, census tract 169.02 has seen the greatest number of building demolitions at 254. The plot shows that a majority of demolitions have occurred in the census tracts just north of Center City."
   ]
  },
  {
   "cell_type": "markdown",
   "id": "3a0c5114",
   "metadata": {},
   "source": [
    "### Seeing the census tracts that have experienced the greatest number of building demolitions, I now want to see the census tract with the highest amount of demolitions by year, and will return those tract with the greatest sum by year."
   ]
  },
  {
   "cell_type": "code",
   "execution_count": null,
   "id": "da192dbf",
   "metadata": {},
   "outputs": [],
   "source": [
    "demolition_analysis = demolition_df_analysis1.loc[demolition_df_analysis1.groupby(['Year'])['sum'].idxmax()]\n",
    "demolition_analysis"
   ]
  },
  {
   "cell_type": "markdown",
   "id": "d2036ca8",
   "metadata": {},
   "source": [
    "### Next, I can gather the data from these tracts from every year to understand if there are trends in building demolition."
   ]
  },
  {
   "cell_type": "code",
   "execution_count": null,
   "id": "6c8d21fa",
   "metadata": {},
   "outputs": [],
   "source": [
    "maintracts = [140.00,111.00, 167.01, 151.02, 169.01, 168.00,174.00,169.02,151.02,138.00,\n",
    "              167.01,138.00,13.00, 149.00,169.02,138.00]\n",
    "demolition_data = demolition_df_analysis1.query(\"Tract in @maintracts\")\n",
    "\n",
    "demolition_data"
   ]
  },
  {
   "cell_type": "markdown",
   "id": "2944048a",
   "metadata": {},
   "source": [
    "### By converting the data frame into a pivot table and converting the type to float, I use the seaborn package to create an annotated heatmap. This style was chosen in order to clearly input the tract and year in order to understand either trends by year or trends by tract while clearly pointing to the highest total by year. However, some cells are blank, denoting no demolitions in that tract for that year."
   ]
  },
  {
   "cell_type": "code",
   "execution_count": null,
   "id": "c9ec9211",
   "metadata": {},
   "outputs": [],
   "source": [
    "### Seaborn Chart\n",
    "\n",
    "demo_data_pivot = demolition_data.pivot_table(index='Tract', columns='Year', values='sum', \n",
    "               aggfunc='sum')\n",
    "\n",
    "\n",
    "demolition_data_pivot = demo_data_pivot.astype(float)\n",
    "\n",
    "plt.figure(figsize=(12, 7))\n",
    "plt.title(\"2007-2022 Trends in Census Tracts With The Most Demolitions\", fontsize =11)\n",
    "ax = sns.heatmap(demolition_data_pivot, annot=True, fmt=\"\", cmap=\"flare\", linewidths=.5)\n",
    "plt.show()"
   ]
  },
  {
   "cell_type": "markdown",
   "id": "1510e9f7",
   "metadata": {},
   "source": [
    "#### Looking at just the top census tracts, census tract 169.01 in 2011 sticks out with the largest amount of building demolitions at 68. Additionally of the top census tracts, 2010 sticks out as a year with many building demolitions simply by the amount and consistency of the darker color of the cells. "
   ]
  },
  {
   "cell_type": "markdown",
   "id": "7e6c27ea",
   "metadata": {},
   "source": [
    "### Another way to visualize this data is by creating a brush plot that allows for interactivity to see building demolitions over time in the individual census tracts."
   ]
  },
  {
   "cell_type": "code",
   "execution_count": null,
   "id": "7f3123d2",
   "metadata": {
    "scrolled": false
   },
   "outputs": [],
   "source": [
    "### Altair Chart 2: Brush\n",
    "\n",
    "brush = alt.selection_interval()\n",
    "\n",
    "\n",
    "alt.Chart(demolition_data).mark_point().encode(\n",
    "    x=alt.X(\"Year:N\", scale=alt.Scale(zero=False)), \n",
    "    y=alt.Y(\"sum\", scale=alt.Scale(zero=False)), \n",
    "    color=alt.condition(brush, \"sum\", alt.value(\"lightgray\"), scale=alt.Scale(scheme='goldred')), \n",
    "    tooltip=[\"Tract\", \"Year\", \"sum\"], \n",
    ").properties(\n",
    "    width=200, height=200, selection=brush, \n",
    ").facet(facet=\"Tract\", columns=4)"
   ]
  },
  {
   "cell_type": "markdown",
   "id": "a7497e6d",
   "metadata": {},
   "source": [
    "#### The plot shows the extreme increase in demolitions in tract 169.01 in 2011. The plot also visualizes consistent and comparitively more demolitions in tracts 167.01, 168, and 169.02 than the other tracts. "
   ]
  },
  {
   "cell_type": "markdown",
   "id": "891d7418",
   "metadata": {},
   "source": [
    "### After further analyzing individual census tracts, I now want to see what share of demolitions the top census tracts had by year using a stacked bar plot. This method allows for color coding visualizing the census tracts within each year while comparing across years and an interactive tool to exactly see the exact number of demolitions."
   ]
  },
  {
   "cell_type": "code",
   "execution_count": null,
   "id": "1a1df91b",
   "metadata": {
    "scrolled": false
   },
   "outputs": [],
   "source": [
    "### Altair Chart 3: Transforming\n",
    "(\n",
    "    alt.Chart(demolition_data)\n",
    "    .mark_bar()\n",
    "    .encode(\n",
    "        x=alt.X('sum:Q', aggregate='sum'),\n",
    "        y='Year:N',\n",
    "        color=alt.Color('Tract:N', scale=alt.Scale(scheme='darkred')),\n",
    "        tooltip=['Year','Tract', 'sum(sum):Q']\n",
    "    ).properties(\n",
    "    height=400,\n",
    "    width=850,\n",
    "    title='Total Building Demolitions from 2007-2022 with Shares by Census Tract')\n",
    ")"
   ]
  },
  {
   "cell_type": "markdown",
   "id": "bc14b5c7",
   "metadata": {},
   "source": [
    "#### This plot reaffirms that in 2011, census tract 169.01 saw a major increase in building demolitions when compared to the rest of the years. Although tract 169.01 experienced drastically more demolitions in 2011, year 2010 also sticks out as the year with the greatest building demolitions for the top census tracts."
   ]
  }
 ],
 "metadata": {
  "kernelspec": {
   "display_name": "Python 3 (ipykernel)",
   "language": "python",
   "name": "python3"
  },
  "language_info": {
   "codemirror_mode": {
    "name": "ipython",
    "version": 3
   },
   "file_extension": ".py",
   "mimetype": "text/x-python",
   "name": "python",
   "nbconvert_exporter": "python",
   "pygments_lexer": "ipython3",
   "version": "3.9.13"
  }
 },
 "nbformat": 4,
 "nbformat_minor": 5
}
